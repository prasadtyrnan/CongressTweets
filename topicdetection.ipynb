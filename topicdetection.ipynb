{
 "cells": [
  {
   "cell_type": "code",
   "execution_count": 18,
   "metadata": {},
   "outputs": [],
   "source": [
    "import pandas as pd\n",
    "import hdbscan\n",
    "import umap\n",
    "import numpy as np\n",
    "from sklearn.decomposition import PCA\n",
    "from sentence_transformers import SentenceTransformer"
   ]
  },
  {
   "cell_type": "code",
   "execution_count": 3,
   "metadata": {},
   "outputs": [
    {
     "data": {
      "text/html": [
       "<div>\n",
       "<style scoped>\n",
       "    .dataframe tbody tr th:only-of-type {\n",
       "        vertical-align: middle;\n",
       "    }\n",
       "\n",
       "    .dataframe tbody tr th {\n",
       "        vertical-align: top;\n",
       "    }\n",
       "\n",
       "    .dataframe thead th {\n",
       "        text-align: right;\n",
       "    }\n",
       "</style>\n",
       "<table border=\"1\" class=\"dataframe\">\n",
       "  <thead>\n",
       "    <tr style=\"text-align: right;\">\n",
       "      <th></th>\n",
       "      <th>Unnamed: 0</th>\n",
       "      <th>Name</th>\n",
       "      <th>Twitter Handle</th>\n",
       "      <th>Time</th>\n",
       "      <th>Content</th>\n",
       "      <th>Retweeting</th>\n",
       "      <th>Hashtags</th>\n",
       "      <th>Tagged</th>\n",
       "      <th>Links</th>\n",
       "    </tr>\n",
       "  </thead>\n",
       "  <tbody>\n",
       "    <tr>\n",
       "      <th>0</th>\n",
       "      <td>0</td>\n",
       "      <td>Jerry Carl</td>\n",
       "      <td>RepJerryCarl</td>\n",
       "      <td>2021-06-11T21:53:16.000Z</td>\n",
       "      <td>I’ll be live on Newsmax with Sean Spicer in ju...</td>\n",
       "      <td>$</td>\n",
       "      <td>$</td>\n",
       "      <td>$</td>\n",
       "      <td>https://t.co/GmdKC6Vwc9</td>\n",
       "    </tr>\n",
       "    <tr>\n",
       "      <th>1</th>\n",
       "      <td>1</td>\n",
       "      <td>Jerry Carl</td>\n",
       "      <td>RepJerryCarl</td>\n",
       "      <td>2021-06-11T17:11:19.000Z</td>\n",
       "      <td>Thank you @RepHarshbarger, @RepRickCrawford, @...</td>\n",
       "      <td>$</td>\n",
       "      <td>$</td>\n",
       "      <td>RepHarshbarger, RepRickCrawford, RepRonnyJacks...</td>\n",
       "      <td>$</td>\n",
       "    </tr>\n",
       "    <tr>\n",
       "      <th>2</th>\n",
       "      <td>2</td>\n",
       "      <td>Jerry Carl</td>\n",
       "      <td>RepJerryCarl</td>\n",
       "      <td>2021-06-11T17:10:10.000Z</td>\n",
       "      <td>🚨🚨 I just sent a letter to Speaker Pelosi urgi...</td>\n",
       "      <td>$</td>\n",
       "      <td>$</td>\n",
       "      <td>$</td>\n",
       "      <td>https://t.co/uyOQnL6qYO</td>\n",
       "    </tr>\n",
       "    <tr>\n",
       "      <th>3</th>\n",
       "      <td>3</td>\n",
       "      <td>Jerry Carl</td>\n",
       "      <td>RepJerryCarl</td>\n",
       "      <td>2021-06-11T15:37:00.000Z</td>\n",
       "      <td>Border crossings rose AGAIN last month. \\n\\nI’...</td>\n",
       "      <td>$</td>\n",
       "      <td>BidenBorderCrisis</td>\n",
       "      <td>$</td>\n",
       "      <td>https://t.co/UR0W4UHtUY</td>\n",
       "    </tr>\n",
       "    <tr>\n",
       "      <th>4</th>\n",
       "      <td>4</td>\n",
       "      <td>Jerry Carl</td>\n",
       "      <td>RepJerryCarl</td>\n",
       "      <td>2021-06-10T22:18:06.000Z</td>\n",
       "      <td>Tina and I are heartbroken to hear @RepTerriSe...</td>\n",
       "      <td>$</td>\n",
       "      <td>$</td>\n",
       "      <td>RepTerriSewells</td>\n",
       "      <td>https://t.co/fm6XIO9FGL</td>\n",
       "    </tr>\n",
       "  </tbody>\n",
       "</table>\n",
       "</div>"
      ],
      "text/plain": [
       "   Unnamed: 0        Name Twitter Handle                      Time  \\\n",
       "0           0  Jerry Carl   RepJerryCarl  2021-06-11T21:53:16.000Z   \n",
       "1           1  Jerry Carl   RepJerryCarl  2021-06-11T17:11:19.000Z   \n",
       "2           2  Jerry Carl   RepJerryCarl  2021-06-11T17:10:10.000Z   \n",
       "3           3  Jerry Carl   RepJerryCarl  2021-06-11T15:37:00.000Z   \n",
       "4           4  Jerry Carl   RepJerryCarl  2021-06-10T22:18:06.000Z   \n",
       "\n",
       "                                             Content Retweeting  \\\n",
       "0  I’ll be live on Newsmax with Sean Spicer in ju...          $   \n",
       "1  Thank you @RepHarshbarger, @RepRickCrawford, @...          $   \n",
       "2  🚨🚨 I just sent a letter to Speaker Pelosi urgi...          $   \n",
       "3  Border crossings rose AGAIN last month. \\n\\nI’...          $   \n",
       "4  Tina and I are heartbroken to hear @RepTerriSe...          $   \n",
       "\n",
       "            Hashtags                                             Tagged  \\\n",
       "0                  $                                                  $   \n",
       "1                  $  RepHarshbarger, RepRickCrawford, RepRonnyJacks...   \n",
       "2                  $                                                  $   \n",
       "3  BidenBorderCrisis                                                  $   \n",
       "4                  $                                    RepTerriSewells   \n",
       "\n",
       "                     Links  \n",
       "0  https://t.co/GmdKC6Vwc9  \n",
       "1                        $  \n",
       "2  https://t.co/uyOQnL6qYO  \n",
       "3  https://t.co/UR0W4UHtUY  \n",
       "4  https://t.co/fm6XIO9FGL  "
      ]
     },
     "execution_count": 3,
     "metadata": {},
     "output_type": "execute_result"
    }
   ],
   "source": [
    "df = pd.read_csv(\"Tweets06112021.csv\")\n",
    "df = df.loc[df['Retweeting'] == \"$\"]\n",
    "df.index = np.arange(0, len(df))\n",
    "df.head()"
   ]
  },
  {
   "cell_type": "code",
   "execution_count": 4,
   "metadata": {},
   "outputs": [],
   "source": [
    "model = SentenceTransformer('distilbert-base-nli-mean-tokens')"
   ]
  },
  {
   "cell_type": "code",
   "execution_count": 10,
   "metadata": {
    "tags": []
   },
   "outputs": [
    {
     "name": "stdout",
     "output_type": "stream",
     "text": [
      "99.98797932443804675\r"
     ]
    }
   ],
   "source": [
    "data = df[\"Content\"]\n",
    "h_embs = []\n",
    "c_embs = []\n",
    "for i in range(len(data)):\n",
    "    print(100*(i/len(data)), end = \"\\r\")\n",
    "    c_embs.append(model.encode(data[i], show_progress_bar = False))\n",
    "    if df[\"Hashtags\"][i] == \"$\":\n",
    "        h_embs.append(np.zeros((768)))\n",
    "    else:\n",
    "        h_embs.append(model.encode(df[\"Hashtags\"][i]))\n",
    "    \n",
    "h_embs = np.array(h_embs)\n",
    "c_embs = np.array(c_embs)"
   ]
  },
  {
   "cell_type": "code",
   "execution_count": 30,
   "metadata": {},
   "outputs": [],
   "source": [
    "np.save(\"6_11_21_corpus_embeddings\", c_embs)\n",
    "np.save(\"6_11_21_hashtag_embeddings\", h_embs)"
   ]
  },
  {
   "cell_type": "code",
   "execution_count": 11,
   "metadata": {},
   "outputs": [
    {
     "name": "stdout",
     "output_type": "stream",
     "text": [
      "(8319, 20)\n",
      "(8319, 4)\n"
     ]
    }
   ],
   "source": [
    "c_umap_embeddings = umap.UMAP(n_neighbors = 15, n_components = 20, metric = 'cosine').fit_transform(c_embs)\n",
    "h_umap_embeddings = umap.UMAP(n_neighbors = 15, n_components = 4, metric = 'cosine').fit_transform(h_embs)\n",
    "print(c_umap_embeddings.shape)\n",
    "print(h_umap_embeddings.shape)"
   ]
  },
  {
   "cell_type": "code",
   "execution_count": 13,
   "metadata": {},
   "outputs": [
    {
     "data": {
      "text/plain": [
       "(8319, 24)"
      ]
     },
     "execution_count": 13,
     "metadata": {},
     "output_type": "execute_result"
    }
   ],
   "source": [
    "umap_embeddings = np.concatenate([c_umap_embeddings, h_umap_embeddings], axis=1)\n",
    "umap_embeddings.shape"
   ]
  },
  {
   "cell_type": "code",
   "execution_count": 14,
   "metadata": {},
   "outputs": [],
   "source": [
    "cluster = hdbscan.HDBSCAN(min_cluster_size=12, metric = 'euclidean', cluster_selection_method='eom').fit(umap_embeddings)"
   ]
  },
  {
   "cell_type": "code",
   "execution_count": 22,
   "metadata": {
    "tags": []
   },
   "outputs": [
    {
     "name": "stdout",
     "output_type": "stream",
     "text": [
      "[[-6.9107633   0.75506514]\n",
      " [-6.886768    0.35036862]\n",
      " [-5.728921    0.6429259 ]\n",
      " ...\n",
      " [-4.715546    0.20347032]\n",
      " [-6.8194194  -0.2344225 ]\n",
      " [-4.8054185  -0.06090172]]\n"
     ]
    },
    {
     "data": {
      "image/png": "[encoded data removed]",
      "text/plain": [
       "<Figure size 1440x720 with 2 Axes>"
      ]
     },
     "metadata": {
      "needs_background": "light"
     },
     "output_type": "display_data"
    }
   ],
   "source": [
    "import matplotlib.pyplot as plt\n",
    "\n",
    "pca = PCA(n_components = 2)\n",
    "umap_data = pca.fit_transform(umap_embeddings)\n",
    "print(umap_data)\n",
    "\n",
    "result = pd.DataFrame(umap_data, columns=['x', 'y'])\n",
    "result['labels'] = cluster.labels_\n",
    "\n",
    "fig, ax = plt.subplots(figsize=(20, 10))\n",
    "outliers = result.loc[result.labels == -1, :]\n",
    "clustered = result.loc[result.labels != -1, :]\n",
    "\n",
    "plt.scatter(outliers.x, outliers.y, color = \"#BDBDBD\")\n",
    "plt.scatter(clustered.x, clustered.y, c = clustered.labels)\n",
    "plt.colorbar()\n",
    "\n",
    "plt.show()"
   ]
  },
  {
   "cell_type": "code",
   "execution_count": 38,
   "metadata": {
    "tags": []
   },
   "outputs": [
    {
     "name": "stdout",
     "output_type": "stream",
     "text": [
      "The #INVESTAct is a game-changing, long-term investment in Arizona that creates jobs, drives our economic recovery, fights climate change and lifts Native American communities.\n",
      "\n",
      "Here's what's in it for Arizona ⬇️ https://t.co/zC8C47xJFe \n",
      "\n",
      "\n",
      "\n",
      "Early this morning @TransportDems passed the #INVESTAct with bipartisan support—including 6 of my local project requests. These funds will make a real difference in our communities by expanding public transit, building + repairing roads on tribal lands, and improving road safety. https://t.co/Gfj38G5zlk \n",
      "\n",
      "\n",
      "\n",
      "WATCH: The #INVESTAct is bold and transformative, and the exact investment we need now to compete in the 21st century economy. \n",
      "\n",
      "It would expand public transit in communities that need it, build and repair roads on tribal lands, support sustainable construction, and create jobs. https://t.co/kQdg42fiF8 \n",
      "\n",
      "\n",
      "\n",
      "We need bold infrastructure investment to compete in the 21st century economy, improve quality of life, and make it safer and easier to get around.\n",
      "\n",
      "Today @TransportDems is considering the #INVESTAct to make that vision a reality. \n",
      "\n",
      "WATCH: https://t.co/YNa9bAOc6C \n",
      "\n",
      "\n",
      "\n",
      "I fought to make sure key infrastructure investments were included in the #INVESTAct, ones that will make a difference for Arizonans—investments to expand public transit, build and repair roads on tribal lands, and improve road safety. https://t.co/RXV0yxZLKb \n",
      "\n",
      "\n",
      "\n",
      "We’re in @TransportDems considering the #INVESTAct. This is our chance to provide historic, desperately needed investments to revive &amp; update our nation’s crumbling infrastructure. It’s time to invest in America, and @HouseDemocrats will move this forward. https://t.co/GxhwAJtgh8 \n",
      "\n",
      "\n",
      "\n",
      "Early this morning @TransportDems advanced the #INVESTAct, which would transform our infrastructure to meet the needs of the 21st century, create jobs &amp; tackle climate change. So proud that 13 of my initiatives, including some listed below, were included. ⬇️ \n",
      "\n",
      "\n",
      "\n",
      "The #INVESTAct would improve our nation’s infrastructure while creating millions of good jobs and addressing climate change. Tune in as @TransportDems take the first steps towards passing this bill and restoring our standing as a global leader in infrastructure. https://t.co/HiiG4ziEzs \n",
      "\n",
      "\n",
      "\n",
      "I am very pleased that critical funding and priorities I submitted on behalf of my constituents, commuters, and transit agencies are included in the #INVESTAct. https://t.co/uNDiUu01x4 \n",
      "\n",
      "\n",
      "\n",
      "Replacing the Del Amo Boulevard Bridge is vital – not just for commuters in Cerritos – but in La Palma, Lakewood, Cypress, and other neighborhoods.\n",
      "\n",
      "That's why I am fighting to include $18 million for this project in the #INVESTAct.\n",
      "\n",
      "Read more here⬇️\n",
      "https://t.co/tvcI1yT7Jq \n",
      "\n",
      "\n",
      "\n",
      "The City of Forest Park Pedestrian Bridge will increase safety for pedestrians and cyclists while providing opportunities to enjoy the outdoors. \n",
      "\n",
      "I've secured $2 MILLION for the project as part of the #INVEST in America Act.🏗️✨\n",
      "\n",
      "Learn more at https://t.co/BYXVl0k0WT. https://t.co/ABBNSJYtXM \n",
      "\n",
      "\n",
      "\n",
      "Today, @TransportDems introduced the #INVESTAct to fund infrastructure projects, create jobs, and address climate change. I’m proud the bill includes language and provisions I fought hard for.\n",
      "\n",
      "👇 https://t.co/xHlxfmoYY7 \n",
      "\n",
      "\n",
      "\n",
      "Today, I'm proud to join @TransportDems to mark up the #INVESTAct. \n",
      "\n",
      "We need bold investment in our infrastructure to give the people of Kansas the best chance to access economic opportunity, improve quality of life, &amp; make communities safer.\n",
      "\n",
      "Tune in at the link below⬇️ https://t.co/3Qcw0sqESm \n",
      "\n",
      "\n",
      "\n",
      "It’s 10:30pm and @TransportDems are still working to pass #INVESTAct to build back better and create good paying jobs. https://t.co/4yqUU0kUHl \n",
      "\n",
      "\n",
      "\n",
      "I'm proud that the @TransportDems passed Water Quality Protection &amp; Job Creation Act and the #INVESTAct include 4 of my provisions to deliver clean water to rural communities, bolster broadband construction, strengthen limo safety regulations, and improve rural transit. https://t.co/BytDSDb0qd \n",
      "\n",
      "\n",
      "\n",
      "I applaud the inclusion of five of my Member Designated Project requests in the INVEST in America Act. This will help get projects in my district the necessary funding to get them over the finish line which will improve our communities and revitalize the local economies. #INVEST https://t.co/w9FVeA83qM \n",
      "\n",
      "\n",
      "\n",
      "Crumbling infrastructure is an American problem that America can fix. After a 19-hour markup, my committee approved the #INVESTAct. This bill will create jobs, reconnect communities and, most pressing of all, address the climate crisis. https://t.co/zc9LW9QQdw \n",
      "\n",
      "\n",
      "\n",
      "Happening now in my committee, we are considering the #INVESTAct. Our goal is clear: Rebuild. Revitalize. Restore. Reimagine. This is what we can achieve when we invest in infrastructure. https://t.co/J3HCgilRUX \n",
      "\n",
      "\n",
      "\n",
      "America's infrastructure used to be the envy of the world—now it's not even in the Top 10. My #INVESTAct make the U.S. a leader  once again with infrastructure that is greener, safer, and more accessible, all while creating jobs here at home. \n",
      "\n",
      "Let’s build by example again. \n",
      "\n",
      "\n",
      "\n",
      "The #INVESTAct we passed out of committee will lay the foundation for Biden’s American Jobs Plan. I’m proud to have authored many of its provisions and to deliver for my community. https://t.co/KAyHlHIuer \n",
      "\n",
      "\n",
      "\n",
      "Proud the #INVESTAct includes funds for Memphis as well as bills I authored involving interstate rail compacts, complete streets, school bus safety, impaired driving, underride guards, Amtrak dining car service and the renaming of the Selma-to-Montgomery highway after John Lewis. \n",
      "\n",
      "\n",
      "\n",
      "✅ More jobs\n",
      "✅ Economic recovery \n",
      "✅ Cleaner &amp; greener transportation network (including our GREEN Buses Act)\n",
      "✅ 🌮 🥑 🍻 \n",
      "\n",
      "@RepBrownley is right: it is time to pass the #INVESTAct! https://t.co/3q0FkkLEKp \n",
      "\n",
      "\n",
      "\n",
      "Read how the #INVESTAct keeps Washingtonians &amp; the economy moving forward \n",
      "🛣️🌉🚗🚉🚵‍♀️⛴️🚌⬇️\n",
      "\n",
      "https://t.co/fvQOpZkN9F \n",
      "\n",
      "\n",
      "\n",
      "After 16 hours &amp; a 4-0 @USMNT win over Costa Rica, @TransportDems passed the bipartisan INVEST in America Act, a bold, FDR-like investment in 🛣️🌉🚗🚉🚵‍♀️⛴️🚌 that creates jobs, drives economic recovery &amp; fights climate change in Northwest Washington. #INVESTAct https://t.co/uRNJImXq39 \n",
      "\n",
      "\n",
      "\n",
      "38-26, #INVESTAct passes. Transportation=jobs. https://t.co/ikQJtw9rjN \n",
      "\n",
      "\n",
      "\n"
     ]
    }
   ],
   "source": [
    "for tweet in df.iloc[(cluster.labels_ == 9).nonzero()].Content:\n",
    "    print(tweet, \"\\n\\n\\n\")"
   ]
  },
  {
   "cell_type": "code",
   "execution_count": 36,
   "metadata": {},
   "outputs": [
    {
     "name": "stdout",
     "output_type": "stream",
     "text": [
      "-1 1011\n",
      "0 92\n",
      "1 25\n",
      "2 5753\n",
      "3 39\n",
      "4 30\n",
      "5 83\n",
      "6 14\n",
      "7 23\n",
      "8 74\n",
      "9 25\n",
      "10 24\n",
      "11 27\n",
      "12 24\n",
      "13 95\n",
      "14 41\n",
      "15 36\n",
      "16 23\n",
      "17 26\n",
      "18 37\n",
      "19 14\n",
      "20 37\n",
      "21 41\n",
      "22 30\n",
      "23 32\n",
      "24 49\n",
      "25 18\n",
      "26 66\n",
      "27 45\n",
      "28 17\n",
      "29 21\n",
      "30 20\n",
      "31 19\n",
      "32 30\n",
      "33 13\n",
      "34 15\n",
      "35 79\n",
      "36 15\n",
      "37 118\n",
      "38 124\n",
      "39 14\n"
     ]
    }
   ],
   "source": [
    "for i in np.unique(cluster.labels_):\n",
    "    print(i, (cluster.labels_ == i).sum())"
   ]
  },
  {
   "cell_type": "code",
   "execution_count": 40,
   "metadata": {},
   "outputs": [],
   "source": [
    "np.save(\"6_11_21_cluster_labels\", cluster.labels_)"
   ]
  },
  {
   "cell_type": "code",
   "execution_count": 34,
   "metadata": {},
   "outputs": [
    {
     "data": {
      "text/plain": [
       "array([-1,  0,  1,  2,  3,  4,  5,  6,  7,  8,  9, 10, 11, 12, 13, 14, 15,\n",
       "       16, 17, 18, 19, 20, 21, 22, 23, 24, 25, 26, 27, 28, 29, 30, 31, 32,\n",
       "       33, 34, 35, 36, 37, 38, 39])"
      ]
     },
     "execution_count": 34,
     "metadata": {},
     "output_type": "execute_result"
    }
   ],
   "source": [
    "np.unique(cluster.labels_)"
   ]
  },
  {
   "cell_type": "code",
   "execution_count": 41,
   "metadata": {},
   "outputs": [
    {
     "name": "stdout",
     "output_type": "stream",
     "text": [
      "[[-6.9107466   0.7550116   1.2176484 ]\n",
      " [-6.8867674   0.3503685   1.904355  ]\n",
      " [-5.7289205   0.64292264  0.71334517]\n",
      " ...\n",
      " [-4.715545    0.20346873 -1.8522478 ]\n",
      " [-6.819419   -0.23442104  0.89370275]\n",
      " [-4.8054175  -0.06089579  3.9155169 ]]\n"
     ]
    }
   ],
   "source": [
    "pca = PCA(n_components = 3)\n",
    "umap_data = pca.fit_transform(umap_embeddings)\n",
    "print(umap_data)"
   ]
  },
  {
   "cell_type": "code",
   "execution_count": 43,
   "metadata": {},
   "outputs": [],
   "source": [
    "np.save(\"6_11_21_topics3dPCA\", umap_data)"
   ]
  },
  {
   "cell_type": "code",
   "execution_count": 44,
   "metadata": {},
   "outputs": [
    {
     "data": {
      "text/plain": [
       "(8319, 3)"
      ]
     },
     "execution_count": 44,
     "metadata": {},
     "output_type": "execute_result"
    }
   ],
   "source": [
    "umap_data.shape"
   ]
  },
  {
   "cell_type": "code",
   "execution_count": 45,
   "metadata": {},
   "outputs": [
    {
     "data": {
      "text/plain": [
       "(8319, 24)"
      ]
     },
     "execution_count": 45,
     "metadata": {},
     "output_type": "execute_result"
    }
   ],
   "source": [
    "umap_embeddings.shape"
   ]
  },
  {
   "cell_type": "code",
   "execution_count": null,
   "metadata": {},
   "outputs": [],
   "source": []
  }
 ],
 "metadata": {
  "kernelspec": {
   "display_name": "Python 3",
   "language": "python",
   "name": "python3"
  },
  "language_info": {
   "codemirror_mode": {
    "name": "ipython",
    "version": 3
   },
   "file_extension": ".py",
   "mimetype": "text/x-python",
   "name": "python",
   "nbconvert_exporter": "python",
   "pygments_lexer": "ipython3",
   "version": "3.7.1"
  }
 },
 "nbformat": 4,
 "nbformat_minor": 4
}
