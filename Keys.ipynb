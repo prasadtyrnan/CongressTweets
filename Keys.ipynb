{
 "cells": [
  {
   "cell_type": "markdown",
   "metadata": {},
   "source": [
    "API Key: rYFxrOjhhGS0UKvxBwsxRww6S\n",
    "\n",
    "API Key Secret: zjBzKVz689d6ZogS8vwtU3gq1FB1WQxFySJ3K0HsQCsmHFsDz6\n",
    "\n",
    "Bearer Token: AAAAAAAAAAAAAAAAAAAAAFJiYgEAAAAA8MDdMjXr%2BTe14hDs9gUFqcH9%2BQc%3DyFU2mifWLIH7JOZUCYY0KB9V5LlldlxBoy10UsAv5lboPEgRpz\n",
    "\n",
    "Client ID: WmZjY2ZuS1JaYWxWWWJJTHgwV2E6MTpjaQ\n",
    "\n",
    "Client Secret: ErzF3PrcCCd5XZwiCsElkm3cpJjB9cfTFhBravxB0YG89hRp-c"
   ]
  },
  {
   "cell_type": "code",
   "execution_count": null,
   "metadata": {},
   "outputs": [],
   "source": []
  }
 ],
 "metadata": {
  "kernelspec": {
   "display_name": "Python 3",
   "language": "python",
   "name": "python3"
  },
  "language_info": {
   "codemirror_mode": {
    "name": "ipython",
    "version": 3
   },
   "file_extension": ".py",
   "mimetype": "text/x-python",
   "name": "python",
   "nbconvert_exporter": "python",
   "pygments_lexer": "ipython3",
   "version": "3.7.1"
  }
 },
 "nbformat": 4,
 "nbformat_minor": 4
}
