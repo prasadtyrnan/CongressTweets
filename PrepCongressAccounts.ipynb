{
 "cells": [
  {
   "cell_type": "code",
   "execution_count": 2,
   "metadata": {},
   "outputs": [],
   "source": [
    "import pandas as pd\n",
    "import numpy as np"
   ]
  },
  {
   "cell_type": "code",
   "execution_count": 3,
   "metadata": {
    "tags": []
   },
   "outputs": [],
   "source": [
    "df_house = pd.read_csv(\"HouseAccounts.csv\", sep=\"\\t\")\n",
    "df_senate = pd.read_csv(\"SenateAccounts.csv\")"
   ]
  },
  {
   "cell_type": "code",
   "execution_count": 4,
   "metadata": {},
   "outputs": [
    {
     "data": {
      "text/html": [
       "<div>\n",
       "<style scoped>\n",
       "    .dataframe tbody tr th:only-of-type {\n",
       "        vertical-align: middle;\n",
       "    }\n",
       "\n",
       "    .dataframe tbody tr th {\n",
       "        vertical-align: top;\n",
       "    }\n",
       "\n",
       "    .dataframe thead th {\n",
       "        text-align: right;\n",
       "    }\n",
       "</style>\n",
       "<table border=\"1\" class=\"dataframe\">\n",
       "  <thead>\n",
       "    <tr style=\"text-align: right;\">\n",
       "      <th></th>\n",
       "      <th>FirstName</th>\n",
       "      <th>LastName</th>\n",
       "      <th>Twitter Handle</th>\n",
       "      <th>St/Dis</th>\n",
       "      <th>Party</th>\n",
       "    </tr>\n",
       "  </thead>\n",
       "  <tbody>\n",
       "    <tr>\n",
       "      <th>0</th>\n",
       "      <td>Alma</td>\n",
       "      <td>Adams</td>\n",
       "      <td>@RepAdams</td>\n",
       "      <td>NC12</td>\n",
       "      <td>D</td>\n",
       "    </tr>\n",
       "    <tr>\n",
       "      <th>1</th>\n",
       "      <td>Robert</td>\n",
       "      <td>Aderholt</td>\n",
       "      <td>@Robert_Aderholt</td>\n",
       "      <td>AL04</td>\n",
       "      <td>R</td>\n",
       "    </tr>\n",
       "    <tr>\n",
       "      <th>2</th>\n",
       "      <td>Pete</td>\n",
       "      <td>Aguilar</td>\n",
       "      <td>@RepPeteAguilar</td>\n",
       "      <td>CA31</td>\n",
       "      <td>D</td>\n",
       "    </tr>\n",
       "    <tr>\n",
       "      <th>3</th>\n",
       "      <td>Rick</td>\n",
       "      <td>Allen</td>\n",
       "      <td>@RepRickAllen</td>\n",
       "      <td>GA12</td>\n",
       "      <td>R</td>\n",
       "    </tr>\n",
       "    <tr>\n",
       "      <th>4</th>\n",
       "      <td>Colin</td>\n",
       "      <td>Allred</td>\n",
       "      <td>@RepColinAllred</td>\n",
       "      <td>TX32</td>\n",
       "      <td>D</td>\n",
       "    </tr>\n",
       "  </tbody>\n",
       "</table>\n",
       "</div>"
      ],
      "text/plain": [
       "  FirstName  LastName    Twitter Handle St/Dis Party\n",
       "0      Alma     Adams         @RepAdams   NC12     D\n",
       "1    Robert  Aderholt  @Robert_Aderholt   AL04     R\n",
       "2      Pete   Aguilar   @RepPeteAguilar   CA31     D\n",
       "3      Rick     Allen     @RepRickAllen   GA12     R\n",
       "4     Colin    Allred   @RepColinAllred   TX32     D"
      ]
     },
     "execution_count": 4,
     "metadata": {},
     "output_type": "execute_result"
    }
   ],
   "source": [
    "df_house.head()"
   ]
  },
  {
   "cell_type": "code",
   "execution_count": 5,
   "metadata": {},
   "outputs": [
    {
     "data": {
      "text/html": [
       "<div>\n",
       "<style scoped>\n",
       "    .dataframe tbody tr th:only-of-type {\n",
       "        vertical-align: middle;\n",
       "    }\n",
       "\n",
       "    .dataframe tbody tr th {\n",
       "        vertical-align: top;\n",
       "    }\n",
       "\n",
       "    .dataframe thead th {\n",
       "        text-align: right;\n",
       "    }\n",
       "</style>\n",
       "<table border=\"1\" class=\"dataframe\">\n",
       "  <thead>\n",
       "    <tr style=\"text-align: right;\">\n",
       "      <th></th>\n",
       "      <th>LastName</th>\n",
       "      <th>FirstName</th>\n",
       "      <th>Handle</th>\n",
       "      <th>Link</th>\n",
       "      <th>State</th>\n",
       "      <th>Party</th>\n",
       "    </tr>\n",
       "  </thead>\n",
       "  <tbody>\n",
       "    <tr>\n",
       "      <th>0</th>\n",
       "      <td>Murkowski</td>\n",
       "      <td>Lisa</td>\n",
       "      <td>lisamurkowski</td>\n",
       "      <td>https://twitter.com/lisamurkowski</td>\n",
       "      <td>AK</td>\n",
       "      <td>R</td>\n",
       "    </tr>\n",
       "    <tr>\n",
       "      <th>1</th>\n",
       "      <td>Sullivan</td>\n",
       "      <td>Dan</td>\n",
       "      <td>SenDanSullivan</td>\n",
       "      <td>https://twitter.com/SenDanSullivan</td>\n",
       "      <td>AK</td>\n",
       "      <td>R</td>\n",
       "    </tr>\n",
       "    <tr>\n",
       "      <th>2</th>\n",
       "      <td>Shelby</td>\n",
       "      <td>RichardC.</td>\n",
       "      <td>SenShelby</td>\n",
       "      <td>https://twitter.com/SenShelby</td>\n",
       "      <td>AL</td>\n",
       "      <td>R</td>\n",
       "    </tr>\n",
       "    <tr>\n",
       "      <th>3</th>\n",
       "      <td>Tuberville</td>\n",
       "      <td>Tommy</td>\n",
       "      <td>SenTuberville</td>\n",
       "      <td>https://twitter.com/SenTuberville</td>\n",
       "      <td>AL</td>\n",
       "      <td>R</td>\n",
       "    </tr>\n",
       "    <tr>\n",
       "      <th>4</th>\n",
       "      <td>Boozman</td>\n",
       "      <td>John</td>\n",
       "      <td>JohnBoozman</td>\n",
       "      <td>https://twitter.com/JohnBoozman</td>\n",
       "      <td>AR</td>\n",
       "      <td>R</td>\n",
       "    </tr>\n",
       "  </tbody>\n",
       "</table>\n",
       "</div>"
      ],
      "text/plain": [
       "     LastName  FirstName          Handle                                Link  \\\n",
       "0   Murkowski       Lisa   lisamurkowski   https://twitter.com/lisamurkowski   \n",
       "1    Sullivan        Dan  SenDanSullivan  https://twitter.com/SenDanSullivan   \n",
       "2      Shelby  RichardC.       SenShelby       https://twitter.com/SenShelby   \n",
       "3  Tuberville      Tommy   SenTuberville   https://twitter.com/SenTuberville   \n",
       "4     Boozman       John     JohnBoozman     https://twitter.com/JohnBoozman   \n",
       "\n",
       "  State Party  \n",
       "0    AK     R  \n",
       "1    AK     R  \n",
       "2    AL     R  \n",
       "3    AL     R  \n",
       "4    AR     R  "
      ]
     },
     "execution_count": 5,
     "metadata": {},
     "output_type": "execute_result"
    }
   ],
   "source": [
    "df_senate.head()"
   ]
  },
  {
   "cell_type": "code",
   "execution_count": 6,
   "metadata": {},
   "outputs": [],
   "source": [
    "house_states = []\n",
    "body = []\n",
    "districts = []\n",
    "handles = []\n",
    "for st_dis in df_house['St/Dis']:\n",
    "    house_states.append(str(st_dis)[:2])\n",
    "    body.append('House')\n",
    "    districts.append(int(str(st_dis)[2:]))\n",
    "    \n",
    "for handle in df_house['Twitter Handle']:\n",
    "    handles.append(handle[1:])\n",
    "    \n",
    "df_house['State'] = house_states\n",
    "df_house['Body'] = body\n",
    "df_house['District'] = districts\n",
    "df_house['Twitter Handle'] = handles"
   ]
  },
  {
   "cell_type": "code",
   "execution_count": 7,
   "metadata": {},
   "outputs": [
    {
     "data": {
      "text/html": [
       "<div>\n",
       "<style scoped>\n",
       "    .dataframe tbody tr th:only-of-type {\n",
       "        vertical-align: middle;\n",
       "    }\n",
       "\n",
       "    .dataframe tbody tr th {\n",
       "        vertical-align: top;\n",
       "    }\n",
       "\n",
       "    .dataframe thead th {\n",
       "        text-align: right;\n",
       "    }\n",
       "</style>\n",
       "<table border=\"1\" class=\"dataframe\">\n",
       "  <thead>\n",
       "    <tr style=\"text-align: right;\">\n",
       "      <th></th>\n",
       "      <th>FirstName</th>\n",
       "      <th>LastName</th>\n",
       "      <th>Twitter Handle</th>\n",
       "      <th>St/Dis</th>\n",
       "      <th>Party</th>\n",
       "      <th>State</th>\n",
       "      <th>Body</th>\n",
       "      <th>District</th>\n",
       "    </tr>\n",
       "  </thead>\n",
       "  <tbody>\n",
       "    <tr>\n",
       "      <th>0</th>\n",
       "      <td>Alma</td>\n",
       "      <td>Adams</td>\n",
       "      <td>RepAdams</td>\n",
       "      <td>NC12</td>\n",
       "      <td>D</td>\n",
       "      <td>NC</td>\n",
       "      <td>House</td>\n",
       "      <td>12</td>\n",
       "    </tr>\n",
       "    <tr>\n",
       "      <th>1</th>\n",
       "      <td>Robert</td>\n",
       "      <td>Aderholt</td>\n",
       "      <td>Robert_Aderholt</td>\n",
       "      <td>AL04</td>\n",
       "      <td>R</td>\n",
       "      <td>AL</td>\n",
       "      <td>House</td>\n",
       "      <td>4</td>\n",
       "    </tr>\n",
       "    <tr>\n",
       "      <th>2</th>\n",
       "      <td>Pete</td>\n",
       "      <td>Aguilar</td>\n",
       "      <td>RepPeteAguilar</td>\n",
       "      <td>CA31</td>\n",
       "      <td>D</td>\n",
       "      <td>CA</td>\n",
       "      <td>House</td>\n",
       "      <td>31</td>\n",
       "    </tr>\n",
       "    <tr>\n",
       "      <th>3</th>\n",
       "      <td>Rick</td>\n",
       "      <td>Allen</td>\n",
       "      <td>RepRickAllen</td>\n",
       "      <td>GA12</td>\n",
       "      <td>R</td>\n",
       "      <td>GA</td>\n",
       "      <td>House</td>\n",
       "      <td>12</td>\n",
       "    </tr>\n",
       "    <tr>\n",
       "      <th>4</th>\n",
       "      <td>Colin</td>\n",
       "      <td>Allred</td>\n",
       "      <td>RepColinAllred</td>\n",
       "      <td>TX32</td>\n",
       "      <td>D</td>\n",
       "      <td>TX</td>\n",
       "      <td>House</td>\n",
       "      <td>32</td>\n",
       "    </tr>\n",
       "  </tbody>\n",
       "</table>\n",
       "</div>"
      ],
      "text/plain": [
       "  FirstName  LastName   Twitter Handle St/Dis Party State   Body  District\n",
       "0      Alma     Adams         RepAdams   NC12     D    NC  House        12\n",
       "1    Robert  Aderholt  Robert_Aderholt   AL04     R    AL  House         4\n",
       "2      Pete   Aguilar   RepPeteAguilar   CA31     D    CA  House        31\n",
       "3      Rick     Allen     RepRickAllen   GA12     R    GA  House        12\n",
       "4     Colin    Allred   RepColinAllred   TX32     D    TX  House        32"
      ]
     },
     "execution_count": 7,
     "metadata": {},
     "output_type": "execute_result"
    }
   ],
   "source": [
    "df_house.head()"
   ]
  },
  {
   "cell_type": "code",
   "execution_count": 8,
   "metadata": {},
   "outputs": [
    {
     "name": "stdout",
     "output_type": "stream",
     "text": [
      "544 544 544 544 544 544 544\n"
     ]
    }
   ],
   "source": [
    "first_names = list(df_house['FirstName']) + list(df_senate['FirstName'])\n",
    "last_names = list(df_house['LastName']) + list(df_senate['LastName'])\n",
    "twitter_handles = list(df_house['Twitter Handle']) + list(df_senate['Handle'])\n",
    "state = list(df_house['State']) + list(df_senate['State'])\n",
    "body = list(df_house['Body']) + list(np.repeat('Senate', 100))\n",
    "district = list(df_house['District']) + list(np.repeat('N/A', 100))\n",
    "party = list(df_house['Party']) + list(df_senate['Party'])\n",
    "\n",
    "print(len(first_names), len(last_names), len(twitter_handles), len(state), len(body), len(district), len(party))"
   ]
  },
  {
   "cell_type": "code",
   "execution_count": 9,
   "metadata": {},
   "outputs": [],
   "source": [
    "df_congress = pd.DataFrame({\"First Name\" : first_names, \"Last Name\" : last_names, \"Handle\" : twitter_handles, \"State\" : state, \"Body\" : body, \"District\" : district, \"Party\" : party})"
   ]
  },
  {
   "cell_type": "code",
   "execution_count": 10,
   "metadata": {},
   "outputs": [],
   "source": [
    "df_congress.to_csv(\"CongressAccounts.csv\", index = False)"
   ]
  },
  {
   "cell_type": "code",
   "execution_count": null,
   "metadata": {},
   "outputs": [],
   "source": []
  }
 ],
 "metadata": {
  "kernelspec": {
   "display_name": "Python 3",
   "language": "python",
   "name": "python3"
  },
  "language_info": {
   "codemirror_mode": {
    "name": "ipython",
    "version": 3
   },
   "file_extension": ".py",
   "mimetype": "text/x-python",
   "name": "python",
   "nbconvert_exporter": "python",
   "pygments_lexer": "ipython3",
   "version": "3.7.1"
  }
 },
 "nbformat": 4,
 "nbformat_minor": 4
}
