{
 "cells": [
  {
   "cell_type": "code",
   "execution_count": 1,
   "metadata": {},
   "outputs": [],
   "source": [
    "import os"
   ]
  },
  {
   "cell_type": "code",
   "execution_count": 70,
   "metadata": {},
   "outputs": [],
   "source": [
    "node_filenames = os.listdir(\"nodes\")"
   ]
  },
  {
   "cell_type": "code",
   "execution_count": 71,
   "metadata": {
    "tags": []
   },
   "outputs": [
    {
     "name": "stdout",
     "output_type": "stream",
     "text": [
      "0 exercise & fitness_ca.csv\n",
      "1 tv shows_ca.csv\n",
      "2 music album_ca.csv\n",
      "3 soccer match_ca.csv\n",
      "4 holiday_ca.csv\n",
      "5 news vertical_ca.csv\n",
      "6 basketball game_ca.csv\n",
      "7 fields of study_ca.csv\n",
      "8 people.csv\n",
      "9 interests and hobbies vertical_ca.csv\n",
      "10 actor_ca.csv\n",
      "11 local news_ca.csv\n",
      "12 sport_ca.csv\n",
      "13 organization.csv\n",
      "14 global tv show_ca.csv\n",
      "15 athlete_ca.csv\n",
      "16 product_ca.csv\n",
      "17 travel_ca.csv\n",
      "18 american football game_ca.csv\n",
      "19 colleges & universities_ca.csv\n",
      "20 brand_ca.csv\n",
      "21 other.csv\n",
      "22 bodies.csv\n",
      "23 cities_ca.csv\n",
      "24 hashtags.csv\n",
      "25 award show_ca.csv\n",
      "26 political race_ca.csv\n",
      "27 states_ca.csv\n",
      "28 entities [entity service]_ca.csv\n",
      "29 video game publisher_ca.csv\n",
      "30 events [entity service]_ca.csv\n",
      "31 reoccurring trends_ca.csv\n",
      "32 interests and hobbies category_ca.csv\n",
      "33 movie_ca.csv\n",
      "34 food_ca.csv\n",
      "35 journalist_ca.csv\n",
      "36 sports team_ca.csv\n",
      "37 digital assets & crypto_ca.csv\n",
      "38 nfl football game_ca.csv\n",
      "39 place_ca.csv\n",
      "40 podcast_ca.csv\n",
      "41 political body_ca.csv\n",
      "42 business taxonomy_ca.csv\n",
      "43 technology_ca.csv\n",
      "44 sports league_ca.csv\n",
      "45 interests and hobbies_ca.csv\n",
      "46 ongoing news story_ca.csv\n",
      "47 person_ca.csv\n",
      "48 movie genre_ca.csv\n",
      "49 person.csv\n",
      "50 entertainment personality_ca.csv\n",
      "51 brand vertical_ca.csv\n",
      "52 musician_ca.csv\n",
      "53 place.csv\n",
      "54 coach_ca.csv\n",
      "55 digital creator_ca.csv\n",
      "56 product taxonomy_ca.csv\n",
      "57 politician_ca.csv\n",
      "58 music genre_ca.csv\n",
      "59 multimedia franchise_ca.csv\n",
      "60 sports event_ca.csv\n",
      "61 parties.csv\n",
      "62 unified twitter taxonomy_ca.csv\n",
      "63 states.csv\n",
      "64 sports personality_ca.csv\n",
      "65 emergency events_ca.csv\n",
      "66 tweets.csv\n",
      "67 baseball game_ca.csv\n",
      "68 weather_ca.csv\n"
     ]
    }
   ],
   "source": [
    "os.system(\"rm -r nodes_prepped && mkdir nodes_prepped\")\n",
    "idx = 0\n",
    "for i in range(len(node_filenames)):\n",
    "    if node_filenames[i][-3:] == \"csv\":\n",
    "        os.system(\"cp nodes/'\" + node_filenames[i] + \"' nodes_prepped/d\" + str(idx) + \".csv\")\n",
    "        print(idx, node_filenames[i])\n",
    "        idx += 1"
   ]
  },
  {
   "cell_type": "code",
   "execution_count": 72,
   "metadata": {},
   "outputs": [
    {
     "name": "stdout",
     "output_type": "stream",
     "text": [
      "0 body_relationships.csv\n",
      "1 brand verticalrelationships_ca.csv\n",
      "2 sportrelationships_ca.csv\n",
      "3 hashtag_relationships.csv\n",
      "4 actorrelationships_ca.csv\n",
      "5 multimedia franchiserelationships_ca.csv\n",
      "6 fields of studyrelationships_ca.csv\n",
      "7 product taxonomyrelationships_ca.csv\n",
      "8 statesrelationships_ca.csv\n",
      "9 person_relationships.csv\n",
      "10 soccer matchrelationships_ca.csv\n",
      "11 travelrelationships_ca.csv\n",
      "12 business taxonomyrelationships_ca.csv\n",
      "13 colleges & universitiesrelationships_ca.csv\n",
      "14 entertainment personalityrelationships_ca.csv\n",
      "15 congressperson_to_tweet.csv\n",
      "16 music genrerelationships_ca.csv\n",
      "17 foodrelationships_ca.csv\n",
      "18 entities [entity service]relationships_ca.csv\n",
      "19 place_relationships.csv\n",
      "20 digital assets & cryptorelationships_ca.csv\n",
      "21 state_relationships.csv\n",
      "22 other_relationships.csv\n",
      "23 athleterelationships_ca.csv\n",
      "24 podcastrelationships_ca.csv\n",
      "25 coachrelationships_ca.csv\n",
      "26 video game publisherrelationships_ca.csv\n",
      "27 music albumrelationships_ca.csv\n",
      "28 political bodyrelationships_ca.csv\n",
      "29 sports eventrelationships_ca.csv\n",
      "30 journalistrelationships_ca.csv\n",
      "31 events [entity service]relationships_ca.csv\n",
      "32 political racerelationships_ca.csv\n",
      "33 weatherrelationships_ca.csv\n",
      "34 personrelationships_ca.csv\n",
      "35 organization_relationships.csv\n",
      "36 exercise & fitnessrelationships_ca.csv\n",
      "37 movie genrerelationships_ca.csv\n",
      "38 productrelationships_ca.csv\n",
      "39 technologyrelationships_ca.csv\n",
      "40 sports personalityrelationships_ca.csv\n",
      "41 interests and hobbies categoryrelationships_ca.csv\n",
      "42 nfl football gamerelationships_ca.csv\n",
      "43 unified twitter taxonomyrelationships_ca.csv\n",
      "44 reoccurring trendsrelationships_ca.csv\n",
      "45 brandrelationships_ca.csv\n",
      "46 digital creatorrelationships_ca.csv\n",
      "47 politicianrelationships_ca.csv\n",
      "48 basketball gamerelationships_ca.csv\n",
      "49 sports teamrelationships_ca.csv\n",
      "50 local newsrelationships_ca.csv\n",
      "51 interests and hobbiesrelationships_ca.csv\n",
      "52 news verticalrelationships_ca.csv\n",
      "53 interests and hobbies verticalrelationships_ca.csv\n",
      "54 musicianrelationships_ca.csv\n",
      "55 ongoing news storyrelationships_ca.csv\n",
      "56 citiesrelationships_ca.csv\n",
      "57 holidayrelationships_ca.csv\n",
      "58 placerelationships_ca.csv\n",
      "59 award showrelationships_ca.csv\n",
      "60 sports leaguerelationships_ca.csv\n",
      "61 party_relationships.csv\n",
      "62 tv showsrelationships_ca.csv\n",
      "63 emergency eventsrelationships_ca.csv\n",
      "64 global tv showrelationships_ca.csv\n",
      "65 movierelationships_ca.csv\n",
      "66 baseball gamerelationships_ca.csv\n",
      "67 american football gamerelationships_ca.csv\n"
     ]
    }
   ],
   "source": [
    "relationship_filenames = os.listdir(\"relationships\")\n",
    "\n",
    "os.system(\"rm -r relationships_prepped && mkdir relationships_prepped\")\n",
    "idx = 0\n",
    "for i in range(len(relationship_filenames)):\n",
    "    if relationship_filenames[i][-3:] == \"csv\":\n",
    "        os.system(\"cp relationships/'\" + relationship_filenames[i] + \"' relationships_prepped/d\" + str(i) + \".csv\")\n",
    "        print(idx, relationship_filenames[i])\n",
    "        idx += 1"
   ]
  },
  {
   "cell_type": "code",
   "execution_count": 73,
   "metadata": {},
   "outputs": [],
   "source": [
    "shell_command = \"neo4j-admin import \"\n",
    "for filename in os.listdir(\"nodes_prepped\"):\n",
    "    shell_command += \"--nodes=import/nodes_prepped/\" + filename + \" \"\n",
    "for filename in os.listdir(\"relationships_prepped\"):\n",
    "    shell_command += \"--relationships=import/relationships_prepped/\" + filename + \" \"\n",
    "shell_command += \"--force --multiline-fields=true --skip-bad-relationships\""
   ]
  },
  {
   "cell_type": "code",
   "execution_count": 74,
   "metadata": {},
   "outputs": [
    {
     "data": {
      "text/plain": [
       "'neo4j-admin import --nodes=import/nodes_prepped/d62.csv --nodes=import/nodes_prepped/d63.csv --nodes=import/nodes_prepped/d49.csv --nodes=import/nodes_prepped/d61.csv --nodes=import/nodes_prepped/d60.csv --nodes=import/nodes_prepped/d48.csv --nodes=import/nodes_prepped/d64.csv --nodes=import/nodes_prepped/d58.csv --nodes=import/nodes_prepped/d59.csv --nodes=import/nodes_prepped/d65.csv --nodes=import/nodes_prepped/d67.csv --nodes=import/nodes_prepped/d66.csv --nodes=import/nodes_prepped/d4.csv --nodes=import/nodes_prepped/d29.csv --nodes=import/nodes_prepped/d15.csv --nodes=import/nodes_prepped/d14.csv --nodes=import/nodes_prepped/d28.csv --nodes=import/nodes_prepped/d5.csv --nodes=import/nodes_prepped/d7.csv --nodes=import/nodes_prepped/d16.csv --nodes=import/nodes_prepped/d17.csv --nodes=import/nodes_prepped/d6.csv --nodes=import/nodes_prepped/d2.csv --nodes=import/nodes_prepped/d13.csv --nodes=import/nodes_prepped/d12.csv --nodes=import/nodes_prepped/d3.csv --nodes=import/nodes_prepped/d1.csv --nodes=import/nodes_prepped/d10.csv --nodes=import/nodes_prepped/d38.csv --nodes=import/nodes_prepped/d39.csv --nodes=import/nodes_prepped/d11.csv --nodes=import/nodes_prepped/d0.csv --nodes=import/nodes_prepped/d34.csv --nodes=import/nodes_prepped/d20.csv --nodes=import/nodes_prepped/d21.csv --nodes=import/nodes_prepped/d35.csv --nodes=import/nodes_prepped/d23.csv --nodes=import/nodes_prepped/d37.csv --nodes=import/nodes_prepped/d36.csv --nodes=import/nodes_prepped/d22.csv --nodes=import/nodes_prepped/d26.csv --nodes=import/nodes_prepped/d32.csv --nodes=import/nodes_prepped/d33.csv --nodes=import/nodes_prepped/d27.csv --nodes=import/nodes_prepped/d8.csv --nodes=import/nodes_prepped/d31.csv --nodes=import/nodes_prepped/d25.csv --nodes=import/nodes_prepped/d19.csv --nodes=import/nodes_prepped/d18.csv --nodes=import/nodes_prepped/d24.csv --nodes=import/nodes_prepped/d30.csv --nodes=import/nodes_prepped/d9.csv --nodes=import/nodes_prepped/d57.csv --nodes=import/nodes_prepped/d43.csv --nodes=import/nodes_prepped/d42.csv --nodes=import/nodes_prepped/d56.csv --nodes=import/nodes_prepped/d68.csv --nodes=import/nodes_prepped/d40.csv --nodes=import/nodes_prepped/d54.csv --nodes=import/nodes_prepped/d55.csv --nodes=import/nodes_prepped/d41.csv --nodes=import/nodes_prepped/d45.csv --nodes=import/nodes_prepped/d51.csv --nodes=import/nodes_prepped/d50.csv --nodes=import/nodes_prepped/d44.csv --nodes=import/nodes_prepped/d52.csv --nodes=import/nodes_prepped/d46.csv --nodes=import/nodes_prepped/d47.csv --nodes=import/nodes_prepped/d53.csv --relationships=import/relationships_prepped/d62.csv --relationships=import/relationships_prepped/d63.csv --relationships=import/relationships_prepped/d49.csv --relationships=import/relationships_prepped/d61.csv --relationships=import/relationships_prepped/d60.csv --relationships=import/relationships_prepped/d48.csv --relationships=import/relationships_prepped/d64.csv --relationships=import/relationships_prepped/d58.csv --relationships=import/relationships_prepped/d59.csv --relationships=import/relationships_prepped/d65.csv --relationships=import/relationships_prepped/d67.csv --relationships=import/relationships_prepped/d66.csv --relationships=import/relationships_prepped/d4.csv --relationships=import/relationships_prepped/d29.csv --relationships=import/relationships_prepped/d15.csv --relationships=import/relationships_prepped/d14.csv --relationships=import/relationships_prepped/d28.csv --relationships=import/relationships_prepped/d5.csv --relationships=import/relationships_prepped/d7.csv --relationships=import/relationships_prepped/d16.csv --relationships=import/relationships_prepped/d17.csv --relationships=import/relationships_prepped/d6.csv --relationships=import/relationships_prepped/d2.csv --relationships=import/relationships_prepped/d13.csv --relationships=import/relationships_prepped/d12.csv --relationships=import/relationships_prepped/d3.csv --relationships=import/relationships_prepped/d1.csv --relationships=import/relationships_prepped/d10.csv --relationships=import/relationships_prepped/d38.csv --relationships=import/relationships_prepped/d39.csv --relationships=import/relationships_prepped/d11.csv --relationships=import/relationships_prepped/d0.csv --relationships=import/relationships_prepped/d34.csv --relationships=import/relationships_prepped/d20.csv --relationships=import/relationships_prepped/d21.csv --relationships=import/relationships_prepped/d35.csv --relationships=import/relationships_prepped/d23.csv --relationships=import/relationships_prepped/d37.csv --relationships=import/relationships_prepped/d36.csv --relationships=import/relationships_prepped/d22.csv --relationships=import/relationships_prepped/d26.csv --relationships=import/relationships_prepped/d32.csv --relationships=import/relationships_prepped/d33.csv --relationships=import/relationships_prepped/d27.csv --relationships=import/relationships_prepped/d8.csv --relationships=import/relationships_prepped/d31.csv --relationships=import/relationships_prepped/d25.csv --relationships=import/relationships_prepped/d19.csv --relationships=import/relationships_prepped/d18.csv --relationships=import/relationships_prepped/d24.csv --relationships=import/relationships_prepped/d30.csv --relationships=import/relationships_prepped/d9.csv --relationships=import/relationships_prepped/d57.csv --relationships=import/relationships_prepped/d43.csv --relationships=import/relationships_prepped/d42.csv --relationships=import/relationships_prepped/d56.csv --relationships=import/relationships_prepped/d68.csv --relationships=import/relationships_prepped/d40.csv --relationships=import/relationships_prepped/d55.csv --relationships=import/relationships_prepped/d41.csv --relationships=import/relationships_prepped/d45.csv --relationships=import/relationships_prepped/d51.csv --relationships=import/relationships_prepped/d50.csv --relationships=import/relationships_prepped/d44.csv --relationships=import/relationships_prepped/d52.csv --relationships=import/relationships_prepped/d46.csv --relationships=import/relationships_prepped/d47.csv --relationships=import/relationships_prepped/d53.csv --force --multiline-fields=true --skip-bad-relationships'"
      ]
     },
     "execution_count": 74,
     "metadata": {},
     "output_type": "execute_result"
    }
   ],
   "source": [
    "shell_command"
   ]
  },
  {
   "cell_type": "code",
   "execution_count": null,
   "metadata": {},
   "outputs": [],
   "source": []
  },
  {
   "cell_type": "code",
   "execution_count": null,
   "metadata": {},
   "outputs": [],
   "source": []
  }
 ],
 "metadata": {
  "kernelspec": {
   "display_name": "Python 3",
   "language": "python",
   "name": "python3"
  },
  "language_info": {
   "codemirror_mode": {
    "name": "ipython",
    "version": 3
   },
   "file_extension": ".py",
   "mimetype": "text/x-python",
   "name": "python",
   "nbconvert_exporter": "python",
   "pygments_lexer": "ipython3",
   "version": "3.7.1"
  }
 },
 "nbformat": 4,
 "nbformat_minor": 4
}
